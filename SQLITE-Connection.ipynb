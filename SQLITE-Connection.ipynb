{
 "cells": [
  {
   "cell_type": "code",
   "execution_count": 1,
   "metadata": {
    "collapsed": true
   },
   "outputs": [],
   "source": [
    "# importar o modulo de conexão a banco de dados SQLITE\n",
    "import sqlite3"
   ]
  },
  {
   "cell_type": "code",
   "execution_count": 2,
   "metadata": {
    "collapsed": true
   },
   "outputs": [],
   "source": [
    "# Criar conexão com o banco de dados SQLite\n",
    "conn = sqlite3.connect('tutorial.db')\n",
    "c = conn.cursor()"
   ]
  },
  {
   "cell_type": "code",
   "execution_count": 3,
   "metadata": {
    "collapsed": true
   },
   "outputs": [],
   "source": [
    "# Criar tabela no banco de dados StuffToPlot\n",
    "def create_table():\n",
    "    c.execute('CREATE TABLE IF NOT EXISTS stuffToPlot (unix REAL, datestamp TEXT, keyword TEXT, value REAL)')"
   ]
  },
  {
   "cell_type": "code",
   "execution_count": 4,
   "metadata": {
    "collapsed": true
   },
   "outputs": [],
   "source": [
    "# Inserir dados em tabela no banco de dados StuffToPlot\n",
    "def data_entry():\n",
    "    c.execute(\"INSERT INTO stuffToPlot VALUES(185946, '2016-012-10', 'Python', 20)\")\n",
    "    conn.commit()\n",
    "    #c.close()\n",
    "    #conn.close()"
   ]
  },
  {
   "cell_type": "code",
   "execution_count": 5,
   "metadata": {},
   "outputs": [],
   "source": [
    "# Executa as funções criadas para a criação da tabela e inserir dados.\n",
    "create_table()\n",
    "data_entry()   "
   ]
  },
  {
   "cell_type": "code",
   "execution_count": 6,
   "metadata": {
    "collapsed": true
   },
   "outputs": [],
   "source": [
    "# Realizar o commit para o banco de dados.\n",
    "conn.commit()"
   ]
  },
  {
   "cell_type": "code",
   "execution_count": 7,
   "metadata": {
    "collapsed": true
   },
   "outputs": [],
   "source": [
    "# Consulta de dados a banco de dados\n",
    "def read_from_db():\n",
    "    c.execute(\"SELECT * FROM stuffToPlot;\")\n",
    "    #row=c.fetchall()\n",
    "    for row in c.fetchall():\n",
    "        print(row)"
   ]
  },
  {
   "cell_type": "code",
   "execution_count": 8,
   "metadata": {},
   "outputs": [
    {
     "name": "stdout",
     "output_type": "stream",
     "text": [
      "(845526.0, '2016-012-01', 'Python', 10.0)\n",
      "(185946.0, '2016-012-10', 'Python', 20.0)\n"
     ]
    }
   ],
   "source": [
    "# Resultado da pesquisa ao banco de dados\n",
    "read_from_db()"
   ]
  },
  {
   "cell_type": "code",
   "execution_count": 9,
   "metadata": {
    "collapsed": true
   },
   "outputs": [],
   "source": [
    "# Update um registro em uma tabela de um determinado banco de dados\n",
    "def db_update():    \n",
    "    c.execute(\"update stufftoplot set value = 99 where value=20.0\")\n",
    "    conn.commit()\n",
    "    c.execute(\"select * from stuffToPlot\")\n",
    "    [print(row) for row in c.fetchall()]\n",
    "   \n",
    "    "
   ]
  },
  {
   "cell_type": "code",
   "execution_count": 10,
   "metadata": {},
   "outputs": [
    {
     "name": "stdout",
     "output_type": "stream",
     "text": [
      "(845526.0, '2016-012-01', 'Python', 10.0)\n",
      "(185946.0, '2016-012-10', 'Python', 99.0)\n"
     ]
    }
   ],
   "source": [
    "db_update()"
   ]
  },
  {
   "cell_type": "code",
   "execution_count": 11,
   "metadata": {
    "collapsed": true
   },
   "outputs": [],
   "source": [
    "# Delete registro em uma tabela de um determinado banco de dados\n",
    "def db_delete():\n",
    "    c.execute(\"DELETE FROM stuffToPlot WHERE value = 99.0\")\n",
    "    conn.commit()\n",
    "    c.execute(\"select * from stuffToPlot\")\n",
    "    [print(row) for row in c.fetchall()]"
   ]
  },
  {
   "cell_type": "code",
   "execution_count": 12,
   "metadata": {},
   "outputs": [
    {
     "name": "stdout",
     "output_type": "stream",
     "text": [
      "(845526.0, '2016-012-01', 'Python', 10.0)\n"
     ]
    }
   ],
   "source": [
    "db_delete()"
   ]
  },
  {
   "cell_type": "code",
   "execution_count": 13,
   "metadata": {
    "collapsed": true
   },
   "outputs": [],
   "source": [
    "# Fechar conexão com o banco de dados SQlite\n",
    "c.close()\n",
    "conn.close()"
   ]
  }
 ],
 "metadata": {
  "kernelspec": {
   "display_name": "Python 3",
   "language": "python",
   "name": "python3"
  },
  "language_info": {
   "codemirror_mode": {
    "name": "ipython",
    "version": 3
   },
   "file_extension": ".py",
   "mimetype": "text/x-python",
   "name": "python",
   "nbconvert_exporter": "python",
   "pygments_lexer": "ipython3",
   "version": "3.6.1"
  }
 },
 "nbformat": 4,
 "nbformat_minor": 2
}
